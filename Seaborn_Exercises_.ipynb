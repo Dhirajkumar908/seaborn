{
  "nbformat": 4,
  "nbformat_minor": 0,
  "metadata": {
    "colab": {
      "name": "Seaborn Exercises .ipynb",
      "private_outputs": true,
      "provenance": [],
      "authorship_tag": "ABX9TyOfTK88OBA/cXRYj1zyU1u0",
      "include_colab_link": true
    },
    "kernelspec": {
      "name": "python3",
      "display_name": "Python 3"
    }
  },
  "cells": [
    {
      "cell_type": "markdown",
      "metadata": {
        "id": "view-in-github",
        "colab_type": "text"
      },
      "source": [
        "<a href=\"https://colab.research.google.com/github/Dhirajkumar908/seaborn/blob/main/Seaborn_Exercises_.ipynb\" target=\"_parent\"><img src=\"https://colab.research.google.com/assets/colab-badge.svg\" alt=\"Open In Colab\"/></a>"
      ]
    },
    {
      "cell_type": "markdown",
      "metadata": {
        "id": "_3llWiqr8c8t"
      },
      "source": [
        "**Seaborn** **Exercises**"
      ]
    },
    {
      "cell_type": "markdown",
      "metadata": {
        "id": "7F_oH0a-7f8y"
      },
      "source": [
        "We will be working with a famous titanic data set for these exercises .Later on in the Machine learning section of the course. we will revisit this data . and use it to predict survival rate of passenger .For now, we will just focus on the visulaition of the data with seaborn"
      ]
    },
    {
      "cell_type": "code",
      "metadata": {
        "id": "vpG7WtnT8aOC"
      },
      "source": [
        "import seaborn as sns \r\n",
        "import matplotlib.pyplot as plt \r\n",
        "%matplotlib inline"
      ],
      "execution_count": null,
      "outputs": []
    },
    {
      "cell_type": "code",
      "metadata": {
        "id": "BaI8Wb9Q9a-Z"
      },
      "source": [
        "sns.set_style('whitegrid')"
      ],
      "execution_count": null,
      "outputs": []
    },
    {
      "cell_type": "code",
      "metadata": {
        "id": "JdnGnnuT9vWw"
      },
      "source": [
        "titanic= sns.load_dataset('titanic')"
      ],
      "execution_count": null,
      "outputs": []
    },
    {
      "cell_type": "code",
      "metadata": {
        "id": "Pd-Ke9zR-DRM"
      },
      "source": [
        "titanic.head()"
      ],
      "execution_count": null,
      "outputs": []
    },
    {
      "cell_type": "code",
      "metadata": {
        "id": "jswHljAh-IF3"
      },
      "source": [
        "sns.jointplot(x='fare',y='age',data = titanic)"
      ],
      "execution_count": null,
      "outputs": []
    },
    {
      "cell_type": "code",
      "metadata": {
        "id": "uLW7BJZ--nKy"
      },
      "source": [
        "sns.displot(titanic['fare'],kde=False,color='red',bins=30)"
      ],
      "execution_count": null,
      "outputs": []
    },
    {
      "cell_type": "code",
      "metadata": {
        "id": "TKlvawLQ_U6G"
      },
      "source": [
        "sns.boxplot(x='class',y='age',data=titanic,palette='rainbow')"
      ],
      "execution_count": null,
      "outputs": []
    },
    {
      "cell_type": "code",
      "metadata": {
        "id": "1Cdsonz-AmtO"
      },
      "source": [
        "sns.swarmplot(x='class',y='age',data=titanic,palette='Set2')"
      ],
      "execution_count": null,
      "outputs": []
    },
    {
      "cell_type": "code",
      "metadata": {
        "id": "tZxbqCN5BERO"
      },
      "source": [
        "sns.countplot(x='sex',data=titanic)"
      ],
      "execution_count": null,
      "outputs": []
    },
    {
      "cell_type": "code",
      "metadata": {
        "id": "YgWrtoBcBioD"
      },
      "source": [
        "sns.heatmap(titanic.corr(),cmap='coolwarm')\r\n",
        "plt.title('titanic.corr()')"
      ],
      "execution_count": null,
      "outputs": []
    },
    {
      "cell_type": "code",
      "metadata": {
        "id": "Tkkwoo0OCGzS"
      },
      "source": [
        "g=sns.FacetGrid(data=titanic,col='sex')\r\n",
        "g.map(plt.hist,'age')"
      ],
      "execution_count": null,
      "outputs": []
    },
    {
      "cell_type": "code",
      "metadata": {
        "id": "NAiI0VfeDAK9"
      },
      "source": [
        ""
      ],
      "execution_count": null,
      "outputs": []
    }
  ]
}