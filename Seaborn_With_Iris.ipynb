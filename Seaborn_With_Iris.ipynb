{
  "nbformat": 4,
  "nbformat_minor": 0,
  "metadata": {
    "colab": {
      "name": "Seaborn With Iris.ipynb",
      "private_outputs": true,
      "provenance": [],
      "collapsed_sections": [],
      "authorship_tag": "ABX9TyOkfgy+HS1eAsZ0tuMpb4OR",
      "include_colab_link": true
    },
    "kernelspec": {
      "name": "python3",
      "display_name": "Python 3"
    },
    "accelerator": "GPU"
  },
  "cells": [
    {
      "cell_type": "markdown",
      "metadata": {
        "id": "view-in-github",
        "colab_type": "text"
      },
      "source": [
        "<a href=\"https://colab.research.google.com/github/Dhirajkumar908/seaborn/blob/main/Seaborn_With_Iris.ipynb\" target=\"_parent\"><img src=\"https://colab.research.google.com/assets/colab-badge.svg\" alt=\"Open In Colab\"/></a>"
      ]
    },
    {
      "cell_type": "code",
      "metadata": {
        "id": "LRXvX8L3Rmkb"
      },
      "source": [
        "import seaborn as sns\r\n",
        "%matplotlib inline\r\n",
        "iris = sns.load_dataset('iris')\r\n",
        "iris.head()"
      ],
      "execution_count": null,
      "outputs": []
    },
    {
      "cell_type": "code",
      "metadata": {
        "id": "mh_IfmZLSD5D"
      },
      "source": [
        "iris['species'].unique()"
      ],
      "execution_count": null,
      "outputs": []
    },
    {
      "cell_type": "code",
      "metadata": {
        "id": "_SSi-nQRSWH8"
      },
      "source": [
        "sns.pairplot(iris)"
      ],
      "execution_count": null,
      "outputs": []
    },
    {
      "cell_type": "code",
      "metadata": {
        "id": "IAD1SSWkSg6t"
      },
      "source": [
        "g=sns.PairGrid(iris)\r\n",
        "g.map_diag(sns.displot)\r\n",
        "\r\n",
        "g.map_lower(sns.kdeplot)"
      ],
      "execution_count": null,
      "outputs": []
    },
    {
      "cell_type": "code",
      "metadata": {
        "id": "TkCdtNZq6srL"
      },
      "source": [
        ""
      ],
      "execution_count": null,
      "outputs": []
    },
    {
      "cell_type": "code",
      "metadata": {
        "id": "L3AmxCjLSqWW"
      },
      "source": [
        "tips= sns.load_dataset('tips')"
      ],
      "execution_count": null,
      "outputs": []
    },
    {
      "cell_type": "code",
      "metadata": {
        "id": "4BzPwdKDUow7"
      },
      "source": [
        "tips.head()"
      ],
      "execution_count": null,
      "outputs": []
    },
    {
      "cell_type": "code",
      "metadata": {
        "id": "CpjhozmbUsQX"
      },
      "source": [
        "g = sns.FacetGrid(data=tips,col='time',row='smoker')\r\n",
        "g.map(sns.distplot,'total_bill')"
      ],
      "execution_count": null,
      "outputs": []
    },
    {
      "cell_type": "markdown",
      "metadata": {
        "id": "wETpZG62qfXm"
      },
      "source": [
        "## **Regration plot**"
      ]
    },
    {
      "cell_type": "code",
      "metadata": {
        "id": "oo_7r0k3VKSv"
      },
      "source": [
        "tips = sns.load_dataset('tips')\r\n",
        "tips.head()"
      ],
      "execution_count": null,
      "outputs": []
    },
    {
      "cell_type": "code",
      "metadata": {
        "id": "Ccg3fNPbmv5I"
      },
      "source": [
        "sns.lmplot(x='total_bill',y='tip',data=tips,hue='sex',markers=['o','v'],)"
      ],
      "execution_count": null,
      "outputs": []
    },
    {
      "cell_type": "code",
      "metadata": {
        "id": "oBvwWXsLn_Vl"
      },
      "source": [
        "sns.lmplot(x='total_bill',y='tip',data=tips,col='day',row='time',hue='sex',aspect=0.6,size=8)"
      ],
      "execution_count": null,
      "outputs": []
    },
    {
      "cell_type": "code",
      "metadata": {
        "id": "vhoH7p2RpQHm"
      },
      "source": [
        ""
      ],
      "execution_count": null,
      "outputs": []
    },
    {
      "cell_type": "markdown",
      "metadata": {
        "id": "HruhUlSBMGns"
      },
      "source": [
        "Seaborn"
      ]
    },
    {
      "cell_type": "code",
      "metadata": {
        "id": "MASOaQ7nMJmd"
      },
      "source": [
        "import seaborn as sns\r\n",
        "import matplotlib.pyplot as plt\r\n",
        "%matplotlib inline\r\n",
        "tips = sns.load_dataset('tips')\r\n",
        "tips.head()"
      ],
      "execution_count": null,
      "outputs": []
    },
    {
      "cell_type": "code",
      "metadata": {
        "id": "Hp19FUzTMWM1"
      },
      "source": [
        "sns.set_style('ticks')\r\n",
        "sns.countplot(x='sex',data=tips)\r\n",
        "sns.despine(left=True,bottom=True)"
      ],
      "execution_count": null,
      "outputs": []
    },
    {
      "cell_type": "code",
      "metadata": {
        "id": "S4rj8JQbMekM"
      },
      "source": [
        "plt.figure(figsize=(12,3))\r\n",
        "sns.countplot(x='sex',data=tips)"
      ],
      "execution_count": null,
      "outputs": []
    },
    {
      "cell_type": "code",
      "metadata": {
        "id": "hRgpwM4BOHlK"
      },
      "source": [
        "sns.set_context('poster',font_scale=1)\r\n",
        "sns.countplot(x='sex',data=tips)"
      ],
      "execution_count": null,
      "outputs": []
    },
    {
      "cell_type": "code",
      "metadata": {
        "id": "NLwhWUos5TQ-"
      },
      "source": [
        ""
      ],
      "execution_count": null,
      "outputs": []
    }
  ]
}