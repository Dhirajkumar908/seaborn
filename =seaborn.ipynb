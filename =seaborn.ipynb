{
  "nbformat": 4,
  "nbformat_minor": 0,
  "metadata": {
    "colab": {
      "name": "=seaborn.ipynb",
      "private_outputs": true,
      "provenance": [],
      "authorship_tag": "ABX9TyMqSTml+x1wF0YYi2GBU0ho",
      "include_colab_link": true
    },
    "kernelspec": {
      "name": "python3",
      "display_name": "Python 3"
    },
    "accelerator": "GPU"
  },
  "cells": [
    {
      "cell_type": "markdown",
      "metadata": {
        "id": "view-in-github",
        "colab_type": "text"
      },
      "source": [
        "<a href=\"https://colab.research.google.com/github/Dhirajkumar908/seaborn/blob/main/%3Dseaborn.ipynb\" target=\"_parent\"><img src=\"https://colab.research.google.com/assets/colab-badge.svg\" alt=\"Open In Colab\"/></a>"
      ]
    },
    {
      "cell_type": "code",
      "metadata": {
        "id": "C2VL-e0ffgOO"
      },
      "source": [
        "import seaborn as sns\r\n",
        "%matplotlib inline\r\n",
        "tips = sns.load_dataset('tips')\r\n",
        "flights = sns.load_dataset('flights')\r\n",
        "tips.head()\r\n",
        "\r\n"
      ],
      "execution_count": null,
      "outputs": []
    },
    {
      "cell_type": "code",
      "metadata": {
        "id": "_o5HyAhvsTUa"
      },
      "source": [
        "flights.head()"
      ],
      "execution_count": null,
      "outputs": []
    },
    {
      "cell_type": "code",
      "metadata": {
        "id": "7csHBjdkgC1F"
      },
      "source": [
        "sns.displot(tips['total_bill'],bins =40)"
      ],
      "execution_count": null,
      "outputs": []
    },
    {
      "cell_type": "code",
      "metadata": {
        "id": "VhNmqcD2g4P-"
      },
      "source": [
        "sns.jointplot(x='total_bill',y='tip',data=tips,kind='hex')"
      ],
      "execution_count": null,
      "outputs": []
    },
    {
      "cell_type": "code",
      "metadata": {
        "id": "qzR34KrUhbPE"
      },
      "source": [
        "sns.jointplot(x='total_bill',y='tip',data=tips,kind='reg')"
      ],
      "execution_count": null,
      "outputs": []
    },
    {
      "cell_type": "code",
      "metadata": {
        "id": "BPdNkoFKilrZ"
      },
      "source": [
        "sns.jointplot(x='total_bill',y='tip',data=tips,kind='kde')"
      ],
      "execution_count": null,
      "outputs": []
    },
    {
      "cell_type": "code",
      "metadata": {
        "id": "02aHArWmixP4"
      },
      "source": [
        "sns.pairplot(tips,hue='sex',)"
      ],
      "execution_count": null,
      "outputs": []
    },
    {
      "cell_type": "code",
      "metadata": {
        "id": "HPGbVtcEjttd"
      },
      "source": [
        "sns.rugplot(tips['total_bill'])"
      ],
      "execution_count": null,
      "outputs": []
    },
    {
      "cell_type": "code",
      "metadata": {
        "id": "k7q_9JL_kDY9"
      },
      "source": [
        "sns.displot(tips['total_bill'])"
      ],
      "execution_count": null,
      "outputs": []
    },
    {
      "cell_type": "code",
      "metadata": {
        "id": "XtCsxxBKkKSd"
      },
      "source": [
        "import numpy as np\r\n"
      ],
      "execution_count": null,
      "outputs": []
    },
    {
      "cell_type": "code",
      "metadata": {
        "id": "9JQx-q8Bc34X"
      },
      "source": [
        "sns.barplot(x='sex',y='total_bill',data=tips,estimator=np.std)"
      ],
      "execution_count": null,
      "outputs": []
    },
    {
      "cell_type": "code",
      "metadata": {
        "id": "XGcZmHkDc3dG"
      },
      "source": [
        "sns.countplot(x='sex',data=tips)"
      ],
      "execution_count": null,
      "outputs": []
    },
    {
      "cell_type": "code",
      "metadata": {
        "id": "4ESYgWtuk6XO"
      },
      "source": [
        "sns.boxplot(x='day',y='total_bill',data=tips,)"
      ],
      "execution_count": null,
      "outputs": []
    },
    {
      "cell_type": "code",
      "metadata": {
        "id": "8j1AoiPolOse"
      },
      "source": [
        "sns.violinplot(x='day',y='total_bill',data=tips)"
      ],
      "execution_count": null,
      "outputs": []
    },
    {
      "cell_type": "code",
      "metadata": {
        "id": "5iCrKJGImuI3"
      },
      "source": [
        "sns.stripplot(x='day',y='total_bill',data=tips,jitter=True,hue='sex',split=True)\r\n"
      ],
      "execution_count": null,
      "outputs": []
    },
    {
      "cell_type": "code",
      "metadata": {
        "id": "v3k8W15NoXB4"
      },
      "source": [
        "sns.swarmplot(x='day',y='total_bill',data=tips)\r\n",
        "sns.violinplot(x='day',y='total_bill',data=tips,color='black')"
      ],
      "execution_count": null,
      "outputs": []
    },
    {
      "cell_type": "code",
      "metadata": {
        "id": "oUATpnB0p7ry"
      },
      "source": [
        "sns.factorplot(x='day',y='total_bill',data=tips,kind='bar',hue='sex')"
      ],
      "execution_count": null,
      "outputs": []
    },
    {
      "cell_type": "code",
      "metadata": {
        "id": "Wm2hs9Ckq3sg"
      },
      "source": [
        "flights.head()"
      ],
      "execution_count": null,
      "outputs": []
    },
    {
      "cell_type": "code",
      "metadata": {
        "id": "0HNA35bFtFeR"
      },
      "source": [
        "tc=tips.corr()\r\n",
        "sns.heatmap(tc,annot=True,cmap='coolwarm')"
      ],
      "execution_count": null,
      "outputs": []
    },
    {
      "cell_type": "code",
      "metadata": {
        "id": "yfddKLKvtOWq"
      },
      "source": [
        "tc"
      ],
      "execution_count": null,
      "outputs": []
    },
    {
      "cell_type": "code",
      "metadata": {
        "id": "OF-S3RnItWKR"
      },
      "source": [
        "flights.pivot_table(index='month'columns='year',values='passengers')"
      ],
      "execution_count": null,
      "outputs": []
    },
    {
      "cell_type": "code",
      "metadata": {
        "id": "xasQO-Ahud4Z"
      },
      "source": [
        ""
      ],
      "execution_count": null,
      "outputs": []
    }
  ]
}